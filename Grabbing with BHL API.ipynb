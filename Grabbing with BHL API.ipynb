{
 "cells": [
  {
   "cell_type": "code",
   "execution_count": 3,
   "id": "036ecc35-a7b4-45af-a140-66703b018dce",
   "metadata": {},
   "outputs": [],
   "source": [
    "import requests\n",
    "import json\n",
    "from dotenv import load_dotenv\n",
    "import os\n",
    "import pandas as pd"
   ]
  },
  {
   "cell_type": "code",
   "execution_count": 4,
   "id": "e6fb61ee-cf1e-4145-a612-2d000698ef3d",
   "metadata": {},
   "outputs": [],
   "source": [
    "load_dotenv()\n",
    "api_key = os.getenv(\"BHL_API_KEY\")"
   ]
  },
  {
   "cell_type": "code",
   "execution_count": 14,
   "id": "7b48f234-92f5-4c8c-af27-75b3366a6167",
   "metadata": {},
   "outputs": [],
   "source": [
    "volume_ids = ['135496','135963','135969','135967','135968']"
   ]
  },
  {
   "cell_type": "code",
   "execution_count": 15,
   "id": "94edc5e9-f248-41aa-b63d-444d80d66069",
   "metadata": {},
   "outputs": [
    {
     "data": {
      "text/plain": [
       "1338"
      ]
     },
     "execution_count": 15,
     "metadata": {},
     "output_type": "execute_result"
    }
   ],
   "source": [
    "bhl_results = []\n",
    "for volume_id in volume_ids:\n",
    "    r = requests.get('https://www.biodiversitylibrary.org/api3',\n",
    "                     params={'apikey':api_key,\n",
    "                             'op':'GetItemMetadata',\n",
    "                             'id':volume_id,\n",
    "                             'pages':'t',\n",
    "                             'format':'json'})\n",
    "    bhl_json = r.json()\n",
    "    volume = bhl_json['Result'][0]['Volume']\n",
    "    for page in bhl_json['Result'][0]['Pages']:\n",
    "        page_id = page['PageID']\n",
    "        page_type = '|'.join([pagetype['PageTypeName'] for pagetype in page['PageTypes']])\n",
    "        if len(page['PageNumbers']):\n",
    "            page_number = page['PageNumbers'][0]['Prefix'] + ' ' + page['PageNumbers'][0]['Number']\n",
    "        else:\n",
    "            page_number = ''\n",
    "        bhl_results.append({'volume':volume,\n",
    "                            'page_id':page_id,\n",
    "                            'page_type':page_type,\n",
    "                            'page_number':page_number})\n",
    "        \n",
    "len(bhl_results)"
   ]
  },
  {
   "cell_type": "code",
   "execution_count": 16,
   "id": "06c21df8-45c2-4296-87a8-66b2a89f1a9d",
   "metadata": {},
   "outputs": [
    {
     "data": {
      "text/html": [
       "<div>\n",
       "<style scoped>\n",
       "    .dataframe tbody tr th:only-of-type {\n",
       "        vertical-align: middle;\n",
       "    }\n",
       "\n",
       "    .dataframe tbody tr th {\n",
       "        vertical-align: top;\n",
       "    }\n",
       "\n",
       "    .dataframe thead th {\n",
       "        text-align: right;\n",
       "    }\n",
       "</style>\n",
       "<table border=\"1\" class=\"dataframe\">\n",
       "  <thead>\n",
       "    <tr style=\"text-align: right;\">\n",
       "      <th></th>\n",
       "      <th>volume</th>\n",
       "      <th>page_id</th>\n",
       "      <th>page_type</th>\n",
       "      <th>page_number</th>\n",
       "    </tr>\n",
       "  </thead>\n",
       "  <tbody>\n",
       "    <tr>\n",
       "      <th>0</th>\n",
       "      <td>v.1 (1925)</td>\n",
       "      <td>42602750</td>\n",
       "      <td>Cover</td>\n",
       "      <td></td>\n",
       "    </tr>\n",
       "    <tr>\n",
       "      <th>1</th>\n",
       "      <td>v.1 (1925)</td>\n",
       "      <td>42602749</td>\n",
       "      <td>Blank</td>\n",
       "      <td></td>\n",
       "    </tr>\n",
       "    <tr>\n",
       "      <th>2</th>\n",
       "      <td>v.1 (1925)</td>\n",
       "      <td>42602748</td>\n",
       "      <td>Text</td>\n",
       "      <td></td>\n",
       "    </tr>\n",
       "    <tr>\n",
       "      <th>3</th>\n",
       "      <td>v.1 (1925)</td>\n",
       "      <td>42602747</td>\n",
       "      <td>Blank</td>\n",
       "      <td></td>\n",
       "    </tr>\n",
       "    <tr>\n",
       "      <th>4</th>\n",
       "      <td>v.1 (1925)</td>\n",
       "      <td>42602746</td>\n",
       "      <td>Blank</td>\n",
       "      <td></td>\n",
       "    </tr>\n",
       "  </tbody>\n",
       "</table>\n",
       "</div>"
      ],
      "text/plain": [
       "       volume   page_id page_type page_number\n",
       "0  v.1 (1925)  42602750     Cover            \n",
       "1  v.1 (1925)  42602749     Blank            \n",
       "2  v.1 (1925)  42602748      Text            \n",
       "3  v.1 (1925)  42602747     Blank            \n",
       "4  v.1 (1925)  42602746     Blank            "
      ]
     },
     "execution_count": 16,
     "metadata": {},
     "output_type": "execute_result"
    }
   ],
   "source": [
    "bhl_df = pd.DataFrame(bhl_results)\n",
    "bhl_df.head()"
   ]
  },
  {
   "cell_type": "code",
   "execution_count": 17,
   "id": "41130c41-cf32-43b7-a711-4ab8c34a83be",
   "metadata": {},
   "outputs": [
    {
     "name": "stdout",
     "output_type": "stream",
     "text": [
      "<class 'pandas.core.frame.DataFrame'>\n",
      "RangeIndex: 1338 entries, 0 to 1337\n",
      "Data columns (total 4 columns):\n",
      " #   Column       Non-Null Count  Dtype \n",
      "---  ------       --------------  ----- \n",
      " 0   volume       1338 non-null   object\n",
      " 1   page_id      1338 non-null   int64 \n",
      " 2   page_type    1338 non-null   object\n",
      " 3   page_number  1338 non-null   object\n",
      "dtypes: int64(1), object(3)\n",
      "memory usage: 41.9+ KB\n"
     ]
    }
   ],
   "source": [
    "bhl_df.info()"
   ]
  },
  {
   "cell_type": "code",
   "execution_count": 18,
   "id": "c451edc9-bf91-4ea9-af11-9fe6b7294243",
   "metadata": {},
   "outputs": [
    {
     "data": {
      "text/plain": [
       "page_type\n",
       "Blank                477\n",
       "Text                 415\n",
       "Illustration         401\n",
       "Index                 15\n",
       "Table of Contents     15\n",
       "Cover                 10\n",
       "Title Page             5\n",
       "Name: count, dtype: int64"
      ]
     },
     "execution_count": 18,
     "metadata": {},
     "output_type": "execute_result"
    }
   ],
   "source": [
    "bhl_df['page_type'].value_counts()"
   ]
  },
  {
   "cell_type": "code",
   "execution_count": 19,
   "id": "0dba3d9b-09bd-4912-86ed-9f0cfa569b3d",
   "metadata": {},
   "outputs": [],
   "source": [
    "bhl_df.to_csv('walcott_bhl_api_results.tsv', sep='\\t', index=False)"
   ]
  },
  {
   "cell_type": "code",
   "execution_count": null,
   "id": "7902a071-8dd4-404b-a6d7-9737f08345f8",
   "metadata": {},
   "outputs": [],
   "source": []
  }
 ],
 "metadata": {
  "kernelspec": {
   "display_name": "Python 3 (ipykernel)",
   "language": "python",
   "name": "python3"
  },
  "language_info": {
   "codemirror_mode": {
    "name": "ipython",
    "version": 3
   },
   "file_extension": ".py",
   "mimetype": "text/x-python",
   "name": "python",
   "nbconvert_exporter": "python",
   "pygments_lexer": "ipython3",
   "version": "3.13.1"
  }
 },
 "nbformat": 4,
 "nbformat_minor": 5
}
